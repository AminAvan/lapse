{
 "cells": [
  {
   "cell_type": "markdown",
   "metadata": {},
   "source": [
    "# Lapse: Latency \\& Power-Aware Placement of Data Stream Applications on Edge Computing\n",
    "\n",
    "**Abstract:** Data Stream Processing (DSP) systems have gained considerable attention in edge computing environments to handle data streams from diverse sources, notably IoT devices, in real-time at the network’s edge. However, their effective utilization concerning end-to-end processing latency, SLA violations, and infrastructure power consumption in heterogeneous environments depends on the adopted placement strategy, posing a significant challenge. This paper introduces Lapse, an innovative cost-based heuristic algorithm specifically crafted to optimize the placement of DSP applications within edge computing environments. Lapse aims to concurrently minimize latency SLA violations and curtail the overall power consumption of the underlying infrastructure. Simulation-driven experiments indicate that Lapse outperforms baseline strategies, substantially reducing the power consumption of the infrastructure by up to 24.42% and SLA violations by up to 75%.\n",
    "\n",
    "<!-- There is two convenient options to reproduce ours experiments. First, you can clone the repository and execute this notebook on your local machine. Alternatively, you can access and run it directly on [MyBinder](https://mybinder.org/v2/gh/carloshkayser/lapse/master?filepath=analysis.ipynb).\n",
    "\n",
    "[![Binder](https://mybinder.org/badge_logo.svg)](https://mybinder.org/v2/gh/carloshkayser/lapse/HEAD?labpath=analysis.ipynb) -->\n"
   ]
  },
  {
   "cell_type": "markdown",
   "metadata": {},
   "source": [
    "Let's define the name of our dataset:"
   ]
  },
  {
   "cell_type": "code",
   "execution_count": null,
   "metadata": {},
   "outputs": [],
   "source": [
    "dataset = \"dataset\"\n",
    "\n",
    "from IPython.display import IFrame\n",
    "IFrame(f\"datasets/{dataset}.pdf\", width=800, height=600)"
   ]
  },
  {
   "cell_type": "markdown",
   "metadata": {},
   "source": [
    "Now, let's execute the experiments:"
   ]
  },
  {
   "cell_type": "code",
   "execution_count": null,
   "metadata": {},
   "outputs": [],
   "source": [
    "!python -B -m simulator --dataset datasets/{dataset}.json --algorithm storm"
   ]
  },
  {
   "cell_type": "code",
   "execution_count": null,
   "metadata": {},
   "outputs": [],
   "source": [
    "!python -B -m simulator --dataset datasets/{dataset}.json --algorithm storm_la"
   ]
  },
  {
   "cell_type": "code",
   "execution_count": null,
   "metadata": {},
   "outputs": [],
   "source": [
    "!python -B -m simulator --dataset datasets/{dataset}.json --algorithm aels"
   ]
  },
  {
   "cell_type": "code",
   "execution_count": null,
   "metadata": {},
   "outputs": [],
   "source": [
    "!python -B -m simulator --dataset datasets/{dataset}.json --algorithm aels_pa"
   ]
  },
  {
   "cell_type": "code",
   "execution_count": null,
   "metadata": {},
   "outputs": [],
   "source": [
    "!python -B -m simulator --dataset datasets/{dataset}.json --algorithm lapse"
   ]
  },
  {
   "cell_type": "markdown",
   "metadata": {},
   "source": [
    "---\n"
   ]
  },
  {
   "cell_type": "markdown",
   "metadata": {},
   "source": [
    "## Results\n",
    "\n",
    "With the experiments executed, we can now analyze the results. First, let's import some libraries and load the results:\n"
   ]
  },
  {
   "cell_type": "code",
   "execution_count": null,
   "metadata": {},
   "outputs": [],
   "source": [
    "!mkdir plots"
   ]
  },
  {
   "cell_type": "code",
   "execution_count": null,
   "metadata": {},
   "outputs": [],
   "source": [
    "from glob import glob\n",
    "\n",
    "import matplotlib.pyplot as plt\n",
    "import seaborn as sns\n",
    "import pandas as pd\n",
    "import numpy as np\n",
    "import msgpack\n",
    "\n",
    "pd.set_option(\"display.max_colwidth\", None)\n",
    "\n",
    "sns.set_theme(style=\"whitegrid\")\n",
    "\n",
    "colors = [\"#F12B2E\", \"#BEC42E\", \"#25912E\", \"#3454D1\", \"#FF8019\"]\n",
    "sns.set_palette(sns.color_palette(colors, desat=0.75))\n"
   ]
  },
  {
   "cell_type": "code",
   "execution_count": null,
   "metadata": {},
   "outputs": [],
   "source": [
    "def read_results(path):\n",
    "    data = []\n",
    "    for algorithm in glob(path):\n",
    "        for log in glob(algorithm + \"/*\"):\n",
    "            if \"Topology\" in log:\n",
    "                with open(log, \"rb\") as f:\n",
    "                    metrics = msgpack.load(f, strict_map_key=False)[-1]\n",
    "                    metrics[\"algorithm\"] = algorithm\n",
    "                    data.append(metrics)\n",
    "\n",
    "    return data\n"
   ]
  },
  {
   "cell_type": "code",
   "execution_count": null,
   "metadata": {},
   "outputs": [],
   "source": [
    "data = read_results(f\"logs/algorithm=*;dataset={dataset};\")\n",
    "results_df = pd.DataFrame(data)\n",
    "\n",
    "results_df[\"algorithm\"]\n"
   ]
  },
  {
   "cell_type": "code",
   "execution_count": null,
   "metadata": {},
   "outputs": [],
   "source": [
    "results_df[\"algorithm\"] = results_df[\"algorithm\"].str.split(\";\").str[0].str.split(\"=\").str[1]\n",
    "\n",
    "results_df[[\"algorithm\", \"overall_occupation\", \"overall_power_consumption\", \"number_of_processing_latency_sla_violation\"]].sort_values(\n",
    "    by=[\"algorithm\"], ascending=True\n",
    ").reset_index(drop=True)\n"
   ]
  },
  {
   "cell_type": "code",
   "execution_count": null,
   "metadata": {},
   "outputs": [],
   "source": [
    "names = {\n",
    "    \"storm\": \"Storm\",\n",
    "    \"storm_la\": \"Storm-LA\",\n",
    "    \"aels\": \"AELS\",\n",
    "    \"aels_pa\": \"AELS-PA\",\n",
    "    \"lapse\": \"Lapse\",\n",
    "}\n",
    "\n",
    "rename = lambda x: names[x] if x in names else x\n",
    "\n",
    "results_df[\"algorithm\"] = results_df[\"algorithm\"].apply(rename)\n",
    "\n",
    "results_df = results_df.sort_values(by=[\"algorithm\"], ascending=True).reset_index(drop=True)\n",
    "\n",
    "results_df[\"algorithm\"]\n"
   ]
  },
  {
   "cell_type": "code",
   "execution_count": null,
   "metadata": {},
   "outputs": [],
   "source": []
  },
  {
   "cell_type": "code",
   "execution_count": null,
   "metadata": {},
   "outputs": [],
   "source": []
  },
  {
   "cell_type": "code",
   "execution_count": null,
   "metadata": {},
   "outputs": [],
   "source": []
  },
  {
   "cell_type": "markdown",
   "metadata": {
    "jp-MarkdownHeadingCollapsed": true
   },
   "source": [
    "#### SLA Violations by Chain Size\n"
   ]
  },
  {
   "cell_type": "code",
   "execution_count": null,
   "metadata": {},
   "outputs": [],
   "source": [
    "sla_violations_by_chain_size = results_df[[\"algorithm\", \"chain_size\"]]\n",
    "\n",
    "sla_violations_by_chain_size = sla_violations_by_chain_size.explode(\"chain_size\").reset_index(drop=True)\n",
    "\n",
    "sla_violations_by_chain_size = pd.concat(\n",
    "    [sla_violations_by_chain_size[[\"algorithm\"]], pd.json_normalize(sla_violations_by_chain_size[\"chain_size\"])], axis=1\n",
    ")\n",
    "\n",
    "sla_violations_by_chain_size\n"
   ]
  },
  {
   "cell_type": "code",
   "execution_count": null,
   "metadata": {},
   "outputs": [],
   "source": [
    "data = {}\n",
    "for index, row in sla_violations_by_chain_size.iterrows():\n",
    "    if row[\"algorithm\"] not in data:\n",
    "        data[row[\"algorithm\"]] = {}\n",
    "\n",
    "    if row[\"chain_size\"] not in data[row[\"algorithm\"]]:\n",
    "        data[row[\"algorithm\"]][row[\"chain_size\"]] = 0\n",
    "\n",
    "    data[row[\"algorithm\"]][row[\"chain_size\"]] += row[\"delay_sla_violations\"]\n",
    "\n",
    "data\n"
   ]
  },
  {
   "cell_type": "code",
   "execution_count": null,
   "metadata": {},
   "outputs": [],
   "source": [
    "df = pd.DataFrame(data)\n",
    "\n",
    "df = df.transpose()\n",
    "\n",
    "ax = df.plot.bar(stacked=True, figsize=(5, 5))\n",
    "\n",
    "plt.ylabel(\"Latency SLA Violations\", fontsize=16, fontweight=\"bold\", labelpad=10)\n",
    "\n",
    "# sort both labels and handles by labels\n",
    "handles, labels = ax.get_legend_handles_labels()\n",
    "labels, handles = zip(*sorted(zip(labels, handles), key=lambda t: int(t[0])))\n",
    "\n",
    "plt.legend(\n",
    "    handles,\n",
    "    labels,\n",
    "    borderaxespad=-2,\n",
    "    bbox_to_anchor=(0, 0.8, 1, 0.2),\n",
    "    loc=\"upper center\",\n",
    "    mode=\"expand\",\n",
    "    ncol=3,\n",
    "    prop={\"size\": 14},\n",
    "    markerscale=2,\n",
    "    frameon=False,\n",
    ")\n",
    "\n",
    "# set grid style\n",
    "ax.grid(axis=\"x\")\n",
    "ax.grid(axis=\"y\", linestyle=\"--\")\n",
    "\n",
    "# increase tick size\n",
    "ax.tick_params(axis=\"both\", which=\"major\", labelsize=16)\n",
    "\n",
    "# put x axis labels on an angle\n",
    "for item in ax.get_xticklabels():\n",
    "    item.set_rotation(45)\n",
    "\n",
    "plt.savefig(f\"plots/{dataset}-sla-violations-by-chain-size.pdf\", dpi=300, bbox_inches=\"tight\")\n",
    "\n",
    "plt.show()\n"
   ]
  },
  {
   "cell_type": "code",
   "execution_count": null,
   "metadata": {},
   "outputs": [],
   "source": []
  },
  {
   "cell_type": "code",
   "execution_count": null,
   "metadata": {},
   "outputs": [],
   "source": []
  },
  {
   "cell_type": "code",
   "execution_count": null,
   "metadata": {},
   "outputs": [],
   "source": []
  },
  {
   "cell_type": "markdown",
   "metadata": {
    "jp-MarkdownHeadingCollapsed": true
   },
   "source": [
    "#### Power Consumption\n"
   ]
  },
  {
   "cell_type": "code",
   "execution_count": null,
   "metadata": {},
   "outputs": [],
   "source": [
    "data_by_model = results_df[[\"algorithm\", \"model\"]]\n",
    "data_by_model = data_by_model.explode(\"model\").reset_index(drop=True)\n",
    "data_by_model = pd.concat([data_by_model[[\"algorithm\"]], pd.json_normalize(data_by_model[\"model\"])], axis=1)\n",
    "\n",
    "data_by_model\n"
   ]
  },
  {
   "cell_type": "code",
   "execution_count": null,
   "metadata": {},
   "outputs": [],
   "source": [
    "data = {}\n",
    "for index, row in data_by_model.iterrows():\n",
    "    if row[\"algorithm\"] not in data:\n",
    "        data[row[\"algorithm\"]] = {}\n",
    "\n",
    "    if row[\"codename\"] not in data[row[\"algorithm\"]]:\n",
    "        data[row[\"algorithm\"]][row[\"codename\"]] = 0\n",
    "\n",
    "    data[row[\"algorithm\"]][row[\"codename\"]] += row[\"power_consumption\"]\n",
    "\n",
    "data\n"
   ]
  },
  {
   "cell_type": "code",
   "execution_count": null,
   "metadata": {},
   "outputs": [],
   "source": [
    "df = pd.DataFrame(data)\n",
    "\n",
    "# set algorithm as index\n",
    "df = df.transpose()\n",
    "\n",
    "ax = df.plot.bar(stacked=True, figsize=(5, 5))\n",
    "\n",
    "plt.ylabel(\"Power Consumption (W)\", fontsize=16, fontweight=\"bold\", labelpad=10)\n",
    "\n",
    "plt.legend(\n",
    "    borderaxespad=-2,\n",
    "    bbox_to_anchor=(0, 0.8, 1, 0.2),\n",
    "    loc=\"upper center\",\n",
    "    mode=\"expand\",\n",
    "    ncol=3,\n",
    "    prop={\"size\": 14},\n",
    "    markerscale=2,\n",
    "    frameon=False,\n",
    ")\n",
    "\n",
    "# increase tick size\n",
    "ax.tick_params(axis=\"both\", which=\"major\", labelsize=16)\n",
    "\n",
    "ax.grid(axis=\"x\")\n",
    "ax.grid(axis=\"y\", linestyle=\"--\")\n",
    "\n",
    "# put x axis labels on an angle\n",
    "for item in ax.get_xticklabels():\n",
    "    item.set_rotation(45)\n",
    "\n",
    "plt.savefig(f\"plots/{dataset}-power-consumption-by-model.pdf\", dpi=300, bbox_inches=\"tight\")\n",
    "\n",
    "plt.show()\n"
   ]
  },
  {
   "cell_type": "code",
   "execution_count": null,
   "metadata": {},
   "outputs": [],
   "source": []
  },
  {
   "cell_type": "code",
   "execution_count": null,
   "metadata": {},
   "outputs": [],
   "source": []
  },
  {
   "cell_type": "code",
   "execution_count": null,
   "metadata": {},
   "outputs": [],
   "source": []
  },
  {
   "cell_type": "markdown",
   "metadata": {
    "jp-MarkdownHeadingCollapsed": true
   },
   "source": [
    "#### Edge Servers Occupation\n"
   ]
  },
  {
   "cell_type": "code",
   "execution_count": null,
   "metadata": {},
   "outputs": [],
   "source": [
    "data = {}\n",
    "for index, row in data_by_model.iterrows():\n",
    "    if row[\"algorithm\"] not in data:\n",
    "        data[row[\"algorithm\"]] = {}\n",
    "\n",
    "    if row[\"codename\"] not in data[row[\"algorithm\"]]:\n",
    "        data[row[\"algorithm\"]][row[\"codename\"]] = 0\n",
    "\n",
    "    data[row[\"algorithm\"]][row[\"codename\"]] += row[\"occupation\"]\n",
    "\n",
    "data\n"
   ]
  },
  {
   "cell_type": "code",
   "execution_count": null,
   "metadata": {},
   "outputs": [],
   "source": [
    "# Normalize data\n",
    "for algorithm in data:\n",
    "    total = sum(data[algorithm].values())\n",
    "\n",
    "    for model in data[algorithm]:\n",
    "        data[algorithm][model] = data[algorithm][model] / total * 100\n",
    "\n",
    "data\n"
   ]
  },
  {
   "cell_type": "code",
   "execution_count": null,
   "metadata": {},
   "outputs": [],
   "source": [
    "df = pd.DataFrame(data)\n",
    "\n",
    "# set algorithm as index\n",
    "df = df.transpose()\n",
    "\n",
    "ax = df.plot.bar(stacked=True, figsize=(5, 5))\n",
    "\n",
    "plt.ylabel(\"Edge Server Occupation (%)\", fontsize=16, fontweight=\"bold\", labelpad=8)\n",
    "\n",
    "plt.legend(\n",
    "    borderaxespad=-2,\n",
    "    bbox_to_anchor=(0, 0.8, 1, 0.2),\n",
    "    loc=\"upper center\",\n",
    "    mode=\"expand\",\n",
    "    ncol=4,\n",
    "    prop={\"size\": 14},\n",
    "    markerscale=2,\n",
    "    frameon=False,\n",
    ")\n",
    "\n",
    "ax.grid(axis=\"x\")\n",
    "ax.grid(axis=\"y\", linestyle=\"--\")\n",
    "\n",
    "# increase tick size\n",
    "ax.tick_params(axis=\"both\", which=\"major\", labelsize=16)\n",
    "\n",
    "# # put x axis labels on an angle\n",
    "for item in ax.get_xticklabels():\n",
    "    item.set_rotation(45)\n",
    "\n",
    "plt.savefig(f\"plots/{dataset}-occupation-by-model.pdf\", dpi=300, bbox_inches=\"tight\")\n",
    "\n",
    "plt.show()\n"
   ]
  },
  {
   "cell_type": "code",
   "execution_count": null,
   "metadata": {},
   "outputs": [],
   "source": []
  },
  {
   "cell_type": "code",
   "execution_count": null,
   "metadata": {},
   "outputs": [],
   "source": []
  },
  {
   "cell_type": "code",
   "execution_count": null,
   "metadata": {},
   "outputs": [],
   "source": []
  },
  {
   "cell_type": "markdown",
   "metadata": {},
   "source": [
    "#### Application Communication Path Size by Chain Size\n"
   ]
  },
  {
   "cell_type": "code",
   "execution_count": null,
   "metadata": {},
   "outputs": [],
   "source": [
    "results_df[[\"algorithm\", \"path_size\", \"path_size_by_sla\", \"path_size_by_chain_size\"]]\n"
   ]
  },
  {
   "cell_type": "code",
   "execution_count": null,
   "metadata": {
    "scrolled": true
   },
   "outputs": [],
   "source": [
    "data = {\"algorithm\": [], \"app_size\": [], \"path_size\": []}\n",
    "for index, row in results_df.iterrows():\n",
    "    for app_size, path_size in row[\"path_size_by_chain_size\"].items():\n",
    "        for size in path_size:\n",
    "            data[\"algorithm\"].append(row[\"algorithm\"])\n",
    "            data[\"app_size\"].append(app_size)\n",
    "            data[\"path_size\"].append(size)\n",
    "\n",
    "df = pd.DataFrame(data)\n",
    "df\n"
   ]
  },
  {
   "cell_type": "code",
   "execution_count": null,
   "metadata": {},
   "outputs": [],
   "source": [
    "from matplotlib.patheffects import withStroke, Normal\n",
    "\n",
    "# Calculate aspect ratio based on figsize\n",
    "figsize = (8, 5)\n",
    "height = figsize[1]\n",
    "width = figsize[0]\n",
    "aspect_ratio = width / height\n",
    "\n",
    "g = sns.catplot(\n",
    "    data=df,\n",
    "    kind=\"bar\",\n",
    "    x=\"app_size\",\n",
    "    y=\"path_size\",\n",
    "    hue=\"algorithm\",\n",
    "    height=height,  # Set the height of the figure\n",
    "    aspect=aspect_ratio,  # Use the calculated aspect ratio\n",
    "    width=0.9,\n",
    "    # saturation=1,\n",
    ")\n",
    "\n",
    "# Remove legend\n",
    "g._legend.remove()\n",
    "\n",
    "plt.xlabel(\"Number of operators\", fontsize=16, fontweight=\"bold\", labelpad=8)\n",
    "plt.ylabel(\"Path Size\", fontsize=16, fontweight=\"bold\", labelpad=8)\n",
    "\n",
    "plt.legend(\n",
    "    borderaxespad=-2,\n",
    "    bbox_to_anchor=(0, 0.8, 1, 0.2),\n",
    "    loc=\"upper center\",\n",
    "    mode=\"expand\",\n",
    "    ncol=5,\n",
    "    prop={\"size\": 14},\n",
    "    markerscale=2,\n",
    "    frameon=False,\n",
    ")\n",
    "\n",
    "# set grid style\n",
    "g.ax.grid(axis=\"y\", linestyle=\"--\")\n",
    "\n",
    "# set grid box\n",
    "g.ax.set_axisbelow(True)\n",
    "\n",
    "# Increase tick size\n",
    "g.ax.tick_params(axis=\"both\", which=\"major\", labelsize=16)\n",
    "\n",
    "# Put x-axis labels on an angle\n",
    "for item in g.ax.get_xticklabels():\n",
    "    item.set_rotation(0)\n",
    "\n",
    "# Annotate the bars with their values\n",
    "for p in g.ax.patches:\n",
    "    stroke = withStroke(linewidth=2, foreground=\"black\")\n",
    "    normal = Normal()\n",
    "\n",
    "    g.ax.annotate(\n",
    "        \"{:.1f}\".format(p.get_height()),\n",
    "        (p.get_x() + p.get_width() / 2.0, 0.5),\n",
    "        ha=\"center\",\n",
    "        va=\"bottom\",\n",
    "        fontsize=14,\n",
    "        color=\"white\",\n",
    "        weight=\"bold\",\n",
    "        path_effects=[stroke, normal],\n",
    "    )\n",
    "\n",
    "\n",
    "plt.savefig(f\"plots/{dataset}-path-size-by-chain-size.pdf\", dpi=300, bbox_inches=\"tight\")\n",
    "plt.show()\n"
   ]
  },
  {
   "cell_type": "code",
   "execution_count": null,
   "metadata": {},
   "outputs": [],
   "source": []
  },
  {
   "cell_type": "code",
   "execution_count": null,
   "metadata": {},
   "outputs": [],
   "source": []
  },
  {
   "cell_type": "code",
   "execution_count": null,
   "metadata": {},
   "outputs": [],
   "source": []
  },
  {
   "cell_type": "markdown",
   "metadata": {},
   "source": [
    "#### Bandwidth Available for each Data Flow\n"
   ]
  },
  {
   "cell_type": "code",
   "execution_count": null,
   "metadata": {},
   "outputs": [],
   "source": [
    "bw_avail_for_each_flow = results_df[[\"algorithm\", \"bandwidth_available_for_each_flow_percentage\"]].copy()\n",
    "bw_avail_for_each_flow[\"bandwidth_available_for_each_flow_percentage\"] = bw_avail_for_each_flow[\n",
    "    \"bandwidth_available_for_each_flow_percentage\"\n",
    "].apply(lambda x: list(x.values()))\n",
    "bw_avail_for_each_flow = bw_avail_for_each_flow.explode(\"bandwidth_available_for_each_flow_percentage\")\n",
    "\n",
    "bw_avail_for_each_flow.head(5)\n"
   ]
  },
  {
   "cell_type": "code",
   "execution_count": null,
   "metadata": {},
   "outputs": [],
   "source": [
    "bw_avail_for_each_flow = bw_avail_for_each_flow.astype({\"bandwidth_available_for_each_flow_percentage\": float})\n",
    "bw_avail_for_each_flow.head(5)\n"
   ]
  },
  {
   "cell_type": "code",
   "execution_count": null,
   "metadata": {},
   "outputs": [],
   "source": [
    "# compute mean, median, max, min for each algorithm\n",
    "bw_avail_for_each_flow.groupby(\"algorithm\").describe()\n"
   ]
  },
  {
   "cell_type": "code",
   "execution_count": null,
   "metadata": {},
   "outputs": [],
   "source": [
    "plt.figure(figsize=(8, 5))\n",
    "\n",
    "sns.boxplot(\n",
    "    x=\"algorithm\",\n",
    "    y=\"bandwidth_available_for_each_flow_percentage\",\n",
    "    data=bw_avail_for_each_flow,\n",
    "    showmeans=True,\n",
    "    meanprops={\"marker\": \"o\", \"markerfacecolor\": \"white\", \"markeredgecolor\": \"black\", \"markersize\": \"8\"},\n",
    "    showfliers=False,\n",
    "    whis=(0, 100),\n",
    ")\n",
    "\n",
    "# set grid style\n",
    "plt.grid(axis=\"y\", linestyle=\"--\")\n",
    "\n",
    "# remove legend\n",
    "plt.legend([], [], frameon=False)\n",
    "\n",
    "# increase tick size\n",
    "plt.tick_params(axis=\"both\", which=\"major\", labelsize=16)\n",
    "\n",
    "# start at 0\n",
    "plt.ylim(0, 105)\n",
    "\n",
    "# set y axis ticks\n",
    "plt.yticks(np.arange(0, 110, 10))\n",
    "\n",
    "plt.xlabel(\"Algorithm\", fontsize=18, fontweight=\"bold\", labelpad=10)\n",
    "plt.ylabel(\"Bandwidth Available (%)\", fontsize=18, fontweight=\"bold\", labelpad=10)\n",
    "\n",
    "plt.savefig(f\"plots/{dataset}-bandwidth-available-flow.pdf\", dpi=300, bbox_inches=\"tight\")\n"
   ]
  },
  {
   "cell_type": "code",
   "execution_count": null,
   "metadata": {},
   "outputs": [],
   "source": []
  },
  {
   "cell_type": "code",
   "execution_count": null,
   "metadata": {},
   "outputs": [],
   "source": []
  },
  {
   "cell_type": "code",
   "execution_count": null,
   "metadata": {},
   "outputs": [],
   "source": []
  }
 ],
 "metadata": {
  "kernelspec": {
   "display_name": "Python 3 (ipykernel)",
   "language": "python",
   "name": "python3"
  },
  "language_info": {
   "codemirror_mode": {
    "name": "ipython",
    "version": 3
   },
   "file_extension": ".py",
   "mimetype": "text/x-python",
   "name": "python",
   "nbconvert_exporter": "python",
   "pygments_lexer": "ipython3",
   "version": "3.9.13"
  }
 },
 "nbformat": 4,
 "nbformat_minor": 4
}
